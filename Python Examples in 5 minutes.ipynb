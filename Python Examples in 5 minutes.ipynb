{
 "cells": [
  {
   "cell_type": "markdown",
   "id": "139e9c28-45a7-435a-aa25-3984070f984b",
   "metadata": {},
   "source": [
    "Python Basics"
   ]
  },
  {
   "cell_type": "markdown",
   "id": "2e205ea9-831c-4d9d-8314-d745c840c31a",
   "metadata": {},
   "source": [
    "Αναφορά: https://www.w3schools.com/python/python_intro.asp"
   ]
  },
  {
   "cell_type": "markdown",
   "id": "e555c3cd-57c0-4640-a79a-88a496c977d8",
   "metadata": {},
   "source": [
    "Hello World in C"
   ]
  },
  {
   "cell_type": "raw",
   "id": "880b249f-ea37-4bc5-8f26-01cd873c9196",
   "metadata": {},
   "source": [
    "#include <stdio.h>\n",
    "int main() {\n",
    "   // printf() displays the string inside quotation\n",
    "   printf(\"Hello, World!\");\n",
    "   return 0;\n",
    "}"
   ]
  },
  {
   "cell_type": "markdown",
   "id": "c427736d-d03f-4d8e-9b93-5966ad7332c1",
   "metadata": {},
   "source": [
    "Hello World in Python"
   ]
  },
  {
   "cell_type": "code",
   "execution_count": 3,
   "id": "bf21d254-6769-4244-9ae1-7bdb54d19331",
   "metadata": {},
   "outputs": [
    {
     "name": "stdout",
     "output_type": "stream",
     "text": [
      "Hello, World!\n"
     ]
    }
   ],
   "source": [
    "print(\"Hello, World!\")"
   ]
  },
  {
   "cell_type": "code",
   "execution_count": 6,
   "id": "dfadb0f1-90d2-488c-a321-44672f11135c",
   "metadata": {},
   "outputs": [
    {
     "name": "stdout",
     "output_type": "stream",
     "text": [
      "Five is greater than two!\n"
     ]
    }
   ],
   "source": [
    "if 5 > 2:\n",
    " print(\"Five is greater than two!\") \n",
    "if 5 < 2:\n",
    "        print(\"Five is greater than two!\") "
   ]
  },
  {
   "cell_type": "code",
   "execution_count": 7,
   "id": "b5be3a49-bd63-47db-b7ea-6d6079c5fdda",
   "metadata": {},
   "outputs": [
    {
     "name": "stdout",
     "output_type": "stream",
     "text": [
      "Hello, World!\n"
     ]
    }
   ],
   "source": [
    "#This is a comment.\n",
    "print(\"Hello, World!\")"
   ]
  },
  {
   "cell_type": "code",
   "execution_count": 9,
   "id": "914a1aa1-f4c9-496f-974e-93af6b917f92",
   "metadata": {},
   "outputs": [
    {
     "name": "stdout",
     "output_type": "stream",
     "text": [
      "5\n",
      "John\n"
     ]
    }
   ],
   "source": [
    "x = 5\n",
    "y = \"John\"\n",
    "print(x)\n",
    "print(y)"
   ]
  },
  {
   "cell_type": "code",
   "execution_count": 10,
   "id": "4159b140-a2aa-4ad4-b083-cb59a1cf5ace",
   "metadata": {},
   "outputs": [
    {
     "name": "stdout",
     "output_type": "stream",
     "text": [
      "Sally\n"
     ]
    }
   ],
   "source": [
    "x = 4       # x is of type int\n",
    "x = \"Sally\" # x is now of type str\n",
    "print(x)"
   ]
  },
  {
   "cell_type": "code",
   "execution_count": 11,
   "id": "a42b582d-a29e-4c4f-96a5-c0a057e15785",
   "metadata": {},
   "outputs": [],
   "source": [
    "x = 1    # int\n",
    "y = 2.8  # float\n",
    "z = 1j   # complex"
   ]
  },
  {
   "cell_type": "code",
   "execution_count": 12,
   "id": "8ea1bfe2-36d4-40a7-a1be-cddb9243c8e8",
   "metadata": {},
   "outputs": [
    {
     "name": "stdout",
     "output_type": "stream",
     "text": [
      "<class 'int'>\n",
      "<class 'float'>\n",
      "<class 'complex'>\n"
     ]
    }
   ],
   "source": [
    "print(type(x))\n",
    "print(type(y))\n",
    "print(type(z))"
   ]
  },
  {
   "cell_type": "code",
   "execution_count": 13,
   "id": "b5509cf6-dd12-41ed-815f-dda0e4e5f473",
   "metadata": {},
   "outputs": [
    {
     "name": "stdout",
     "output_type": "stream",
     "text": [
      "1\n",
      "2.8\n",
      "1j\n"
     ]
    }
   ],
   "source": [
    "print(x)\n",
    "print(y)\n",
    "print(z)"
   ]
  },
  {
   "cell_type": "code",
   "execution_count": 14,
   "id": "a4dc80d3-fe99-4998-b27a-b8e143cec237",
   "metadata": {},
   "outputs": [
    {
     "name": "stdout",
     "output_type": "stream",
     "text": [
      "apple\n",
      "banana\n",
      "cherry\n"
     ]
    }
   ],
   "source": [
    "fruits = [\"apple\", \"banana\", \"cherry\"]\n",
    "for x in fruits:\n",
    "  print(x)"
   ]
  },
  {
   "cell_type": "code",
   "execution_count": 15,
   "id": "5ef03cd1-7db1-45a4-b807-5287c0733ce3",
   "metadata": {},
   "outputs": [
    {
     "name": "stdout",
     "output_type": "stream",
     "text": [
      "0\n",
      "1\n",
      "2\n",
      "3\n",
      "4\n",
      "5\n"
     ]
    }
   ],
   "source": [
    "for x in range(6):\n",
    "  print(x)"
   ]
  },
  {
   "cell_type": "markdown",
   "id": "3449e3fc-9cc3-452a-873c-c61199f83b6a",
   "metadata": {},
   "source": [
    "Και τώρα ένα Παράδειγμα από τον φίλο μου τον GPTάκη"
   ]
  },
  {
   "cell_type": "markdown",
   "id": "d46f5ac6-662c-4255-a15c-fa81950904e5",
   "metadata": {},
   "source": [
    "Ένα χαρακτηριστικό πρόγραμμα σε Python για κάποιον που ξεκινάει πρώτη μέρα να γνωρίζει τη γλώσσα μπορεί να είναι ένα πρόγραμμα που ζητάει από το χρήστη να εισάγει δύο αριθμούς και εκτυπώνει το αποτέλεσμα της πρόσθεσής τους.\n",
    "\n",
    "Μπορείτε να δοκιμάσετε το παρακάτω κώδικα:"
   ]
  },
  {
   "cell_type": "code",
   "execution_count": 17,
   "id": "2ee868ad-674d-4268-87dd-809cf62cee86",
   "metadata": {},
   "outputs": [
    {
     "name": "stdin",
     "output_type": "stream",
     "text": [
      "Πληκτρολογήστε τον πρώτο αριθμό:  1\n",
      "Πληκτρολογήστε τον δεύτερο αριθμό:  2\n"
     ]
    },
    {
     "name": "stdout",
     "output_type": "stream",
     "text": [
      "Το άθροισμα των δύο αριθμών είναι:  3\n"
     ]
    }
   ],
   "source": [
    "num1 = int(input(\"Πληκτρολογήστε τον πρώτο αριθμό: \"))\n",
    "num2 = int(input(\"Πληκτρολογήστε τον δεύτερο αριθμό: \"))\n",
    "\n",
    "sum = num1 + num2\n",
    "\n",
    "print(\"Το άθροισμα των δύο αριθμών είναι: \", sum)"
   ]
  },
  {
   "cell_type": "markdown",
   "id": "902f5ee5-e040-4ca9-b3be-0cf2b7db1263",
   "metadata": {},
   "source": [
    "Ο κώδικας αυτός χρησιμοποιεί την συνάρτηση input() για να ζητήσει από το χρήστη να εισάγει δύο αριθμούς. Οι αριθμοί αυτοί μετατρέπονται σε ακέραιους αριθμούς με τη χρήση της συνάρτησης int(). Στη συνέχεια, οι αριθμοί προστίθενται με τον τελεστή + και το αποτέλεσμα αποθηκεύεται στην μεταβλητή sum. Τέλος, το αποτέλεσμα εμφανίζεται στο χρήστη με τη χρήση της συνάρτησης print().\n",
    "\n",
    "Αυτό το πρόγραμμα αποτελεί ένα απλό αλλά χρήσιμο παράδειγμα της Python και δείχνει πώς η γλώσσα λειτουργεί"
   ]
  },
  {
   "cell_type": "code",
   "execution_count": null,
   "id": "1185f53d-598a-4d28-bede-03ce73036e76",
   "metadata": {},
   "outputs": [],
   "source": []
  }
 ],
 "metadata": {
  "kernelspec": {
   "display_name": "Python 3 (ipykernel)",
   "language": "python",
   "name": "python3"
  },
  "language_info": {
   "codemirror_mode": {
    "name": "ipython",
    "version": 3
   },
   "file_extension": ".py",
   "mimetype": "text/x-python",
   "name": "python",
   "nbconvert_exporter": "python",
   "pygments_lexer": "ipython3",
   "version": "3.10.6"
  }
 },
 "nbformat": 4,
 "nbformat_minor": 5
}
